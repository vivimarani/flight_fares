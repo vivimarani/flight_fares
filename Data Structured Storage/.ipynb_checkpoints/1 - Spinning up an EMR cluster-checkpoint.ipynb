{
 "cells": [
  {
   "cell_type": "markdown",
   "metadata": {},
   "source": [
    "# Outline:\n",
    "\n",
    "We need to set up a Spark cluster to retrieve the data from the bucket in S3 and apply structure to the data before storing it again. The structured storage will be delivered in two formats: Apache Parque and Postgres Database. \n",
    " \n",
    "* 1) Spin up Spark Cluster (make sure psycopg2 is installed)\n",
    "* 2) SSH into cluster \n",
    "* 3) Upload python files \n",
    "\n"
   ]
  },
  {
   "cell_type": "markdown",
   "metadata": {
    "deletable": true,
    "editable": true
   },
   "source": [
    "# Step 1: Spin up a Spark Cluster\n",
    "\n",
    "Go to EMR and select create cluster\n",
    "\n",
    "<img src=\"images/emr1.png\">\n",
    "<img src=\"images/emr2.png\">\n",
    "<img src=\"images/emr_cluster.png\">\n",
    "<img src=\"images/boostrap_action.png\">"
   ]
  },
  {
   "cell_type": "markdown",
   "metadata": {},
   "source": [
    "## Alternative - Install psycopg2 \n",
    "\n",
    "SSH into the cluster and install psygopg2 with pip\n",
    "\n",
    "    sudo /usr/local/bin/pip install psycopg2"
   ]
  },
  {
   "cell_type": "markdown",
   "metadata": {
    "deletable": true,
    "editable": true
   },
   "source": [
    "# Step 2: SSH into cluster Master Node"
   ]
  },
  {
   "cell_type": "markdown",
   "metadata": {
    "deletable": true,
    "editable": true
   },
   "source": [
    "shell code:\n",
    "\n",
    "    ssh -i ~/.ssh/MyKeyPair.pem hadoop@ec2-54-91-103-128.compute-1.amazonaws.com"
   ]
  },
  {
   "cell_type": "markdown",
   "metadata": {
    "deletable": true,
    "editable": true
   },
   "source": [
    "# Step 3: Upload Python scripts\n",
    "\n",
    "Upload json_to_parquet.py and postgres_script to EMR cluster (make sure to not be logged into EMR to update files)"
   ]
  },
  {
   "cell_type": "markdown",
   "metadata": {
    "deletable": true,
    "editable": true
   },
   "source": [
    "shell code:\n",
    " \n",
    "     scp -i ~/.ssh/MyKeyPair.pem json_to_parquet.py hadoop@ec2-54-91-103-128.compute-1.amazonaws.com:"
   ]
  },
  {
   "cell_type": "markdown",
   "metadata": {
    "deletable": true,
    "editable": true
   },
   "source": [
    "    scp -i ~/.ssh/file.pem postgres_script.py ec2-user@ec2-54-91-103-128.compute-1.amazonaws.com:"
   ]
  },
  {
   "cell_type": "markdown",
   "metadata": {},
   "source": [
    "Refer to the \"2 - Creating a Postgres DB and Connecting to it\" notebook for more information regarding the postgres_script.py, creating a database and connecting to it."
   ]
  }
 ],
 "metadata": {
  "kernelspec": {
   "display_name": "Python 3",
   "language": "python",
   "name": "python3"
  },
  "language_info": {
   "codemirror_mode": {
    "name": "ipython",
    "version": 3
   },
   "file_extension": ".py",
   "mimetype": "text/x-python",
   "name": "python",
   "nbconvert_exporter": "python",
   "pygments_lexer": "ipython3",
   "version": "3.5.3"
  }
 },
 "nbformat": 4,
 "nbformat_minor": 2
}
