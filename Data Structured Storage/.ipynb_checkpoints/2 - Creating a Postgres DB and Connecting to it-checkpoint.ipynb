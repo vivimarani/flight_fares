{
 "cells": [
  {
   "cell_type": "markdown",
   "metadata": {},
   "source": [
    "# Outline:\n",
    "We need to create a database to store the structured data collected from the postgres_script.py. In this project we will use AWS RDS to create a Postgres DB server.  \n",
    "\n",
    "* 1) Launch a DB Instance in AWS RDS \n",
    "* 2) Connect to a PostgreSQL DB Instance using pgAdim\n",
    "* 3) Define Entity-Relationship Schema and Create tables in pgAdmin\n",
    "* 4) Run postgres_script.py on EMR to load data into database\n",
    "\n"
   ]
  },
  {
   "cell_type": "markdown",
   "metadata": {},
   "source": [
    "# Step 1: Launch a POSTGRE DB INSTANCE IN RDS"
   ]
  },
  {
   "cell_type": "markdown",
   "metadata": {},
   "source": [
    "[source](http://docs.aws.amazon.com/AmazonRDS/latest/UserGuide/CHAP_GettingStarted.CreatingConnecting.PostgreSQL.html#CHAP_GettingStarted.Connecting.PostgreSQL)\n",
    "<img src=\"rds.png\">\n",
    "<img src=\"postgre2.png\">\n",
    "<img src=\"postgre3.png\">\n",
    "<img src=\"postgre4.png\">\n",
    "<img src=\"postgre5.png\">\n",
    "<img src=\"postgre6.png\">\n",
    "<img src=\"postgre7.png\">"
   ]
  },
  {
   "cell_type": "markdown",
   "metadata": {},
   "source": [
    "### Configure Security Group in EC2\n",
    "\n",
    "Go into EC2 -> SELECT INSTANCE -> INBOUD -> EDIT\n",
    "<img src=\"postgre12.png\">\n",
    "<img src=\"postgre11.png\">\n"
   ]
  },
  {
   "cell_type": "markdown",
   "metadata": {},
   "source": [
    "# 2) Connect to a PostgreSQL DB Instance"
   ]
  },
  {
   "cell_type": "markdown",
   "metadata": {},
   "source": [
    "<img src=\"images/postgre8.png\">\n",
    "<img src=\"images/postgre9.png\">"
   ]
  },
  {
   "cell_type": "markdown",
   "metadata": {},
   "source": [
    "# 3) Define Entity-Relationship Schema and Create tables in pgAdmin"
   ]
  },
  {
   "cell_type": "markdown",
   "metadata": {},
   "source": []
  },
  {
   "cell_type": "markdown",
   "metadata": {},
   "source": [
    "## Create Tables in pgAdmin\n",
    "\n",
    "Click on SERVER -> POSTGRES -> \n",
    "<img src=\"postgre10.png\">"
   ]
  },
  {
   "cell_type": "markdown",
   "metadata": {},
   "source": [
    "# 4) Run postgres_script.py on EMR to load data into database"
   ]
  },
  {
   "cell_type": "markdown",
   "metadata": {},
   "source": []
  }
 ],
 "metadata": {
  "kernelspec": {
   "display_name": "Python 3",
   "language": "python",
   "name": "python3"
  },
  "language_info": {
   "codemirror_mode": {
    "name": "ipython",
    "version": 3
   },
   "file_extension": ".py",
   "mimetype": "text/x-python",
   "name": "python",
   "nbconvert_exporter": "python",
   "pygments_lexer": "ipython3",
   "version": "3.5.3"
  }
 },
 "nbformat": 4,
 "nbformat_minor": 2
}
