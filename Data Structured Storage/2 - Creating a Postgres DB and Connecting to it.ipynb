{
 "cells": [
  {
   "cell_type": "markdown",
   "metadata": {
    "deletable": true,
    "editable": true
   },
   "source": [
    "# Outline:\n",
    "We need to create a database to store the structured data collected from the postgres_script.py. In this project we will use AWS RDS to create a Postgres DB server.  \n",
    "\n",
    "* 1) Launch a DB Instance in AWS RDS \n",
    "* 2) Connect to a PostgreSQL DB Instance using pgAdim\n",
    "* 3) Define Entity-Relationship Schema and Create tables in pgAdmin\n",
    "* 4) Run postgres_script.py on EMR to load data into database\n",
    "\n"
   ]
  },
  {
   "cell_type": "markdown",
   "metadata": {
    "deletable": true,
    "editable": true
   },
   "source": [
    "# Step 1: Launch a POSTGRE DB INSTANCE IN RDS"
   ]
  },
  {
   "cell_type": "markdown",
   "metadata": {
    "deletable": true,
    "editable": true
   },
   "source": [
    "[source](http://docs.aws.amazon.com/AmazonRDS/latest/UserGuide/CHAP_GettingStarted.CreatingConnecting.PostgreSQL.html#CHAP_GettingStarted.Connecting.PostgreSQL)\n",
    "<img src=\"images/rds.png\">\n",
    "<img src=\"images/postgre2.png\">\n",
    "<img src=\"images/postgre3.png\">\n",
    "<img src=\"images/postgre4.png\">\n",
    "<img src=\"images/postgre5.png\">\n",
    "<img src=\"images/postgre6.png\">\n",
    "<img src=\"images/postgre7.png\">"
   ]
  },
  {
   "cell_type": "markdown",
   "metadata": {
    "deletable": true,
    "editable": true
   },
   "source": [
    "### Configure Security Group in EC2\n",
    "\n",
    "Go into EC2 -> SELECT INSTANCE -> INBOUD -> EDIT\n",
    "<img src=\"images/postgre12.png\">\n",
    "<img src=\"images/postgre11.png\">\n"
   ]
  },
  {
   "cell_type": "markdown",
   "metadata": {
    "deletable": true,
    "editable": true
   },
   "source": [
    "# 2) Connect to a PostgreSQL DB Instance"
   ]
  },
  {
   "cell_type": "markdown",
   "metadata": {
    "deletable": true,
    "editable": true
   },
   "source": [
    "<img src=\"images/postgre8.png\">\n",
    "<img src=\"images/postgre9.png\">"
   ]
  },
  {
   "cell_type": "markdown",
   "metadata": {
    "deletable": true,
    "editable": true
   },
   "source": [
    "# 3) Define Entity-Relationship Schema and Create tables in pgAdmin"
   ]
  },
  {
   "cell_type": "markdown",
   "metadata": {},
   "source": [
    "A total of 5 tables were created in PostgresSQL Database. The entity-relationship graph portraits the relational model.\n",
    "\n",
    "\n"
   ]
  },
  {
   "cell_type": "markdown",
   "metadata": {
    "deletable": true,
    "editable": true
   },
   "source": [
    "## Database Tables\n",
    "<img src=\"images/table.png\">\n",
    "*aircraft*\n",
    "<img src=\"images/table_1.png\">\n",
    "*airport*\n",
    "<img src=\"images/table_2.png\">\n",
    "*carrier*\n",
    "<img src=\"images/table_3.png\">\n",
    "*trips* \n",
    "<img src=\"images/table_4.png\">\n",
    "*city*\n",
    "<img src=\"images/table_5.png\">\n"
   ]
  },
  {
   "cell_type": "markdown",
   "metadata": {},
   "source": [
    "#### Parsing the data:\n",
    "\n",
    "To extract data I need from unstructured S3 files, run script:\n",
    "    \n",
    "      qpx_extractor.py"
   ]
  },
  {
   "cell_type": "markdown",
   "metadata": {
    "deletable": true,
    "editable": true
   },
   "source": [
    "## Create Tables in pgAdmin\n",
    "\n",
    "Click on SERVER -> POSTGRES -> \n",
    "<img src=\"images/postgre10.png\">"
   ]
  },
  {
   "cell_type": "markdown",
   "metadata": {},
   "source": [
    "### Programmatically\n",
    "\n",
    "    Run script: make_db.py"
   ]
  },
  {
   "cell_type": "markdown",
   "metadata": {
    "deletable": true,
    "editable": true
   },
   "source": [
    "# 4) Run update_db.py script on EMR to load data into database"
   ]
  },
  {
   "cell_type": "markdown",
   "metadata": {
    "deletable": true,
    "editable": true
   },
   "source": [
    "The update_db.py is set up on a cron job in EMR to update the database once a day with the current day's data. "
   ]
  }
 ],
 "metadata": {
  "kernelspec": {
   "display_name": "Python 3",
   "language": "python",
   "name": "python3"
  },
  "language_info": {
   "codemirror_mode": {
    "name": "ipython",
    "version": 3
   },
   "file_extension": ".py",
   "mimetype": "text/x-python",
   "name": "python",
   "nbconvert_exporter": "python",
   "pygments_lexer": "ipython3",
   "version": "3.5.3"
  }
 },
 "nbformat": 4,
 "nbformat_minor": 2
}
