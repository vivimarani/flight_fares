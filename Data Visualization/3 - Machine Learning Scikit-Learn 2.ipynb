{
 "cells": [
  {
   "cell_type": "markdown",
   "metadata": {
    "deletable": true,
    "editable": true
   },
   "source": [
    "### Import modules and connect to database"
   ]
  },
  {
   "cell_type": "code",
   "execution_count": 11,
   "metadata": {
    "collapsed": true,
    "deletable": true,
    "editable": true
   },
   "outputs": [],
   "source": [
    "from sqlalchemy import create_engine\n",
    "import yaml"
   ]
  },
  {
   "cell_type": "code",
   "execution_count": 3,
   "metadata": {
    "collapsed": true,
    "deletable": true,
    "editable": true
   },
   "outputs": [],
   "source": [
    "cred = yaml.load(open('/Users/vivianemarani/.ssh/qpx_express_cred.yml'))\n",
    "conn = 'postgresql://{user}:{password}@{host}/{dbname}'.format(**cred['rds'])"
   ]
  },
  {
   "cell_type": "code",
   "execution_count": 5,
   "metadata": {
    "collapsed": false,
    "deletable": true,
    "editable": true
   },
   "outputs": [],
   "source": [
    "engine = create_engine(conn)"
   ]
  },
  {
   "cell_type": "code",
   "execution_count": 7,
   "metadata": {
    "collapsed": false,
    "deletable": true,
    "editable": true
   },
   "outputs": [
    {
     "data": {
      "text/plain": [
       "['trips', 'airport', 'city', 'aircraft', 'carrier']"
      ]
     },
     "execution_count": 7,
     "metadata": {},
     "output_type": "execute_result"
    }
   ],
   "source": [
    "engine.table_names()"
   ]
  },
  {
   "cell_type": "markdown",
   "metadata": {
    "deletable": true,
    "editable": true
   },
   "source": [
    "------"
   ]
  },
  {
   "cell_type": "markdown",
   "metadata": {
    "deletable": true,
    "editable": true
   },
   "source": [
    "## Preprocessing\n",
    "Get TRIPS table ready for Modeling"
   ]
  },
  {
   "cell_type": "code",
   "execution_count": 176,
   "metadata": {
    "collapsed": true,
    "deletable": true,
    "editable": true
   },
   "outputs": [],
   "source": [
    "%matplotlib inline\n",
    "\n",
    "# Import packages\n",
    "import matplotlib.pyplot as plt\n",
    "import seaborn as sns\n",
    "import numpy as np\n",
    "import pandas as pd\n",
    "from sklearn.model_selection import train_test_split\n",
    "from sklearn.metrics import accuracy_score\n",
    "import sklearn.preprocessing as pps"
   ]
  },
  {
   "cell_type": "code",
   "execution_count": 128,
   "metadata": {
    "collapsed": false,
    "deletable": true,
    "editable": true
   },
   "outputs": [
    {
     "data": {
      "text/html": [
       "<div>\n",
       "<table border=\"1\" class=\"dataframe\">\n",
       "  <thead>\n",
       "    <tr style=\"text-align: right;\">\n",
       "      <th></th>\n",
       "      <th>id</th>\n",
       "      <th>duration</th>\n",
       "      <th>price</th>\n",
       "      <th>n_segments</th>\n",
       "      <th>origin_airport</th>\n",
       "      <th>dest_airport</th>\n",
       "      <th>origin_aircraft</th>\n",
       "      <th>dest_aircraft</th>\n",
       "      <th>origin_carrier</th>\n",
       "      <th>dest_carrier</th>\n",
       "    </tr>\n",
       "  </thead>\n",
       "  <tbody>\n",
       "    <tr>\n",
       "      <th>0</th>\n",
       "      <td>1</td>\n",
       "      <td>2041</td>\n",
       "      <td>$1,678.46</td>\n",
       "      <td>4</td>\n",
       "      <td>SFO</td>\n",
       "      <td>GRU</td>\n",
       "      <td>319</td>\n",
       "      <td>773</td>\n",
       "      <td>UA</td>\n",
       "      <td>JJ</td>\n",
       "    </tr>\n",
       "    <tr>\n",
       "      <th>1</th>\n",
       "      <td>2</td>\n",
       "      <td>2118</td>\n",
       "      <td>$1,721.36</td>\n",
       "      <td>4</td>\n",
       "      <td>SFO</td>\n",
       "      <td>GRU</td>\n",
       "      <td>738</td>\n",
       "      <td>738</td>\n",
       "      <td>CM</td>\n",
       "      <td>CM</td>\n",
       "    </tr>\n",
       "    <tr>\n",
       "      <th>2</th>\n",
       "      <td>3</td>\n",
       "      <td>2100</td>\n",
       "      <td>$1,721.36</td>\n",
       "      <td>4</td>\n",
       "      <td>SFO</td>\n",
       "      <td>GRU</td>\n",
       "      <td>738</td>\n",
       "      <td>738</td>\n",
       "      <td>CM</td>\n",
       "      <td>CM</td>\n",
       "    </tr>\n",
       "    <tr>\n",
       "      <th>3</th>\n",
       "      <td>4</td>\n",
       "      <td>2115</td>\n",
       "      <td>$1,721.36</td>\n",
       "      <td>4</td>\n",
       "      <td>SFO</td>\n",
       "      <td>GRU</td>\n",
       "      <td>738</td>\n",
       "      <td>738</td>\n",
       "      <td>CM</td>\n",
       "      <td>CM</td>\n",
       "    </tr>\n",
       "    <tr>\n",
       "      <th>4</th>\n",
       "      <td>5</td>\n",
       "      <td>2103</td>\n",
       "      <td>$1,721.36</td>\n",
       "      <td>4</td>\n",
       "      <td>SFO</td>\n",
       "      <td>GRU</td>\n",
       "      <td>738</td>\n",
       "      <td>738</td>\n",
       "      <td>CM</td>\n",
       "      <td>CM</td>\n",
       "    </tr>\n",
       "  </tbody>\n",
       "</table>\n",
       "</div>"
      ],
      "text/plain": [
       "   id  duration      price  n_segments origin_airport dest_airport  \\\n",
       "0   1      2041  $1,678.46           4            SFO          GRU   \n",
       "1   2      2118  $1,721.36           4            SFO          GRU   \n",
       "2   3      2100  $1,721.36           4            SFO          GRU   \n",
       "3   4      2115  $1,721.36           4            SFO          GRU   \n",
       "4   5      2103  $1,721.36           4            SFO          GRU   \n",
       "\n",
       "  origin_aircraft dest_aircraft origin_carrier dest_carrier  \n",
       "0             319           773             UA           JJ  \n",
       "1             738           738             CM           CM  \n",
       "2             738           738             CM           CM  \n",
       "3             738           738             CM           CM  \n",
       "4             738           738             CM           CM  "
      ]
     },
     "execution_count": 128,
     "metadata": {},
     "output_type": "execute_result"
    }
   ],
   "source": [
    "trips = pd.read_sql(\"SELECT * from trips\", engine)\n",
    "trips.head()"
   ]
  },
  {
   "cell_type": "code",
   "execution_count": 131,
   "metadata": {
    "collapsed": true,
    "deletable": true,
    "editable": true
   },
   "outputs": [],
   "source": [
    "# convert duration column to integer value\n",
    "trips['duration'] = pd.to_numeric(trips['duration'])\n",
    "trips[['price']] = trips[['price']].replace('[\\$,]','',regex=True).astype(float)"
   ]
  },
  {
   "cell_type": "code",
   "execution_count": 132,
   "metadata": {
    "collapsed": false,
    "deletable": true,
    "editable": true
   },
   "outputs": [],
   "source": [
    "# Separate origin aircraft models with get_dummies\n",
    "trips[\"319\"] = pd.get_dummies(trips['origin_aircraft']).ix[:,0]\n",
    "trips[\"738\"] = pd.get_dummies(trips['origin_aircraft']).ix[:,1]\n",
    "trips[\"753\"] = pd.get_dummies(trips['origin_aircraft']).ix[:,2]\n",
    "trips[\"7S8\"] = pd.get_dummies(trips['origin_aircraft']).ix[:,3]"
   ]
  },
  {
   "cell_type": "code",
   "execution_count": 133,
   "metadata": {
    "collapsed": false,
    "deletable": true,
    "editable": true
   },
   "outputs": [],
   "source": [
    "# Separate destination aircraft models with get_dummies\n",
    "trips[\"738\"] = pd.get_dummies(trips['dest_aircraft']).ix[:,0]\n",
    "trips[\"763\"] = pd.get_dummies(trips['dest_aircraft']).ix[:,1]\n",
    "trips[\"764\"] = pd.get_dummies(trips['dest_aircraft']).ix[:,2]\n",
    "trips[\"773\"] = pd.get_dummies(trips['dest_aircraft']).ix[:,3]\n",
    "trips[\"777\"] = pd.get_dummies(trips['dest_aircraft']).ix[:,4]"
   ]
  },
  {
   "cell_type": "code",
   "execution_count": 134,
   "metadata": {
    "collapsed": true,
    "deletable": true,
    "editable": true
   },
   "outputs": [],
   "source": [
    "# Separate origin carrier models with get_dummies\n",
    "trips[\"AM\"] = pd.get_dummies(trips['origin_carrier']).ix[:,0]\n",
    "trips[\"CM\"] = pd.get_dummies(trips['origin_carrier']).ix[:,1]\n",
    "trips[\"UA\"] = pd.get_dummies(trips['origin_carrier']).ix[:,2]"
   ]
  },
  {
   "cell_type": "code",
   "execution_count": 135,
   "metadata": {
    "collapsed": true,
    "deletable": true,
    "editable": true
   },
   "outputs": [],
   "source": [
    "# Separate detination carrier models with get_dummies\n",
    "trips[\"CM\"] = pd.get_dummies(trips['dest_carrier']).ix[:,0]\n",
    "trips[\"JJ\"] = pd.get_dummies(trips['dest_carrier']).ix[:,1]\n",
    "trips[\"UA\"] = pd.get_dummies(trips['dest_carrier']).ix[:,2]"
   ]
  },
  {
   "cell_type": "code",
   "execution_count": 136,
   "metadata": {
    "collapsed": false,
    "deletable": true,
    "editable": true
   },
   "outputs": [],
   "source": [
    "#trips.drop(trips.ix[1][\"origin_airport\", \"dest_airport\",\"dest_aircraft\",\"origin_carrier\", \"dest_carrier\"])"
   ]
  },
  {
   "cell_type": "code",
   "execution_count": 137,
   "metadata": {
    "collapsed": false,
    "deletable": true,
    "editable": true
   },
   "outputs": [],
   "source": [
    "# Delete unnecessary tables\n",
    "del trips['origin_aircraft']\n",
    "del trips['dest_aircraft']\n",
    "del trips['origin_carrier']\n",
    "del trips['dest_carrier']\n",
    "del trips['origin_airport']\n",
    "del trips['dest_airport']\n",
    "del trips['n_segments']\n",
    "del trips['id']"
   ]
  },
  {
   "cell_type": "code",
   "execution_count": 175,
   "metadata": {
    "collapsed": false,
    "deletable": true,
    "editable": true
   },
   "outputs": [],
   "source": [
    "y = trips[\"price\"].values\n",
    "del trips[\"price\"]\n",
    "X = trips"
   ]
  },
  {
   "cell_type": "markdown",
   "metadata": {
    "deletable": true,
    "editable": true
   },
   "source": [
    "## Look for NaN and Outliers in Normalized Data"
   ]
  },
  {
   "cell_type": "code",
   "execution_count": 181,
   "metadata": {
    "collapsed": false,
    "deletable": true,
    "editable": true
   },
   "outputs": [
    {
     "data": {
      "image/png": "[encoded data removed]",
      "text/plain": [
       "<matplotlib.figure.Figure at 0x11832b550>"
      ]
     },
     "metadata": {},
     "output_type": "display_data"
    }
   ],
   "source": [
    "data = pps.scale(X) # centers \n",
    "ax = sns.boxplot(data=data)\n",
    "plt.xlabel(\"Attribute Index\");\n",
    "plt.ylabel((\"Quartile Ranges\"));"
   ]
  },
  {
   "cell_type": "markdown",
   "metadata": {
    "deletable": true,
    "editable": true
   },
   "source": []
  },
  {
   "cell_type": "code",
   "execution_count": 16,
   "metadata": {
    "collapsed": true
   },
   "outputs": [],
   "source": [
    "import psycopg2\n",
    "import yaml\n",
    "from os.path import expanduser\n",
    "import numpy as np\n",
    "import pandas as pd\n",
    "import matplotlib.pyplot as plt\n",
    "import seaborn\n",
    "from sklearn.metrics import mean_squared_error\n",
    "from sklearn.model_selection import train_test_split\n",
    "from sklearn.ensemble import RandomForestRegressor\n"
   ]
  },
  {
   "cell_type": "code",
   "execution_count": null,
   "metadata": {
    "collapsed": true
   },
   "outputs": [],
   "source": []
  },
  {
   "cell_type": "code",
   "execution_count": 17,
   "metadata": {
    "collapsed": true
   },
   "outputs": [],
   "source": [
    "def main():\n",
    "    creds = yaml.load(open(expanduser('~/.ssh/qpx_express_cred.yml')))\n",
    "    df = _get_data(creds)\n",
    "    create_error_plot(df, 100, 5)\n",
    "    print(\"Plot Creation Completed.\")\n",
    "\n",
    "\n",
    "def create_error_plot(df, max_trees, incr):\n",
    "    ''' for RF Regressor, oob_scores is R^2 '''\n",
    "\n",
    "    models, oob_scores, test_errors = build_amazon(df, max_trees, incr)\n",
    "\n",
    "    fig = plt.figure(num=1, figsize=(10, 10))\n",
    "    ax = fig.add_subplot(111)\n",
    "\n",
    "    ax.set_xlim([0, max(models.keys())*1.1])\n",
    "    ax.set_ylim([min(test_errors.values())*0.9, max(test_errors.values())*1.1])\n",
    "    ax.set_xlabel(\"Number of Trees\")\n",
    "    ax.set_ylabel(\"Test MSE\")\n",
    "\n",
    "    x1 = np.array(list(models.keys()))\n",
    "    y1 = np.array([test_errors[k] for k in x1])\n",
    "    idx = np.argsort(x1)\n",
    "    x1 = x1[idx]\n",
    "    y1 = y1[idx]\n",
    "\n",
    "    ax.plot(x1, y1)\n",
    "\n",
    "    fig.savefig(\"../rf_plots.jpg\")\n",
    "\n",
    "\n",
    "def build_amazon(df, max_trees, incr):\n",
    "\n",
    "    iterator = [incr*i for i in range(1, int(max_trees/incr))]\n",
    "\n",
    "    X, y = _transform(df)\n",
    "\n",
    "    X_train, X_test, y_train, y_test = train_test_split(X, y, test_size=0.4)\n",
    "    oob_scores, models, test_errors = {}, {}, {}\n",
    "\n",
    "    for n_trees in iterator:\n",
    "        models[n_trees] = _spawn_one_forest(X_train, y_train, n_trees)\n",
    "        oob_scores[n_trees] = models[n_trees].oob_score_\n",
    "        mse = mean_squared_error(y_test, models[n_trees].predict(X_test))\n",
    "        test_errors[n_trees] = mse\n",
    "\n",
    "    return models, oob_scores, test_errors\n",
    "\n",
    "\n",
    "def _spawn_one_forest(X, y, n_trees):\n",
    "\n",
    "    model = RandomForestRegressor(n_estimators=n_trees,\n",
    "        oob_score=True, random_state=1)\n",
    "\n",
    "    model.fit(X, y)\n",
    "\n",
    "    return model\n",
    "\n",
    "\n",
    "def _transform(df):\n",
    "    y = df.pop('price').apply(lambda x: float(x[1:].replace(\",\",\"\")))\n",
    "    X = df['duration']\n",
    "\n",
    "    for col in ['origin_aircraft', 'dest_aircraft', 'origin_carrier', 'dest_carrier']:\n",
    "        dums = pd.get_dummies(df[col])\n",
    "        X = pd.concat([X, dums], axis=1)\n",
    "\n",
    "    return X, y\n",
    "\n",
    "\n",
    "def _get_data(creds):\n",
    "\n",
    "    query = '''SELECT * FROM trips'''\n",
    "    _, cur = _connect_DB(creds)\n",
    "\n",
    "    cur.execute(query)\n",
    "\n",
    "    columns = [x[0] for x in cur.description]\n",
    "    data = np.array([row for row in cur])\n",
    "    df = pd.DataFrame(data=data, columns=columns)\n",
    "\n",
    "    return df\n",
    "\n",
    "\n",
    "def _connect_DB(credentials):\n",
    "\n",
    "    try:\n",
    "        conn = psycopg2.connect(**credentials['rds'])\n",
    "        cur = conn.cursor()\n",
    "        print(\"Connection Established\")\n",
    "    except:\n",
    "        print(\"Error Establishing Connection\")\n",
    "        return None, None\n",
    "\n",
    "    return conn, cur\n",
    "\n",
    "\n"
   ]
  },
  {
   "cell_type": "code",
   "execution_count": null,
   "metadata": {
    "collapsed": true
   },
   "outputs": [],
   "source": []
  },
  {
   "cell_type": "markdown",
   "metadata": {
    "deletable": true,
    "editable": true
   },
   "source": []
  },
  {
   "cell_type": "markdown",
   "metadata": {
    "deletable": true,
    "editable": true
   },
   "source": []
  },
  {
   "cell_type": "markdown",
   "metadata": {
    "deletable": true,
    "editable": true
   },
   "source": []
  },
  {
   "cell_type": "markdown",
   "metadata": {
    "deletable": true,
    "editable": true
   },
   "source": []
  },
  {
   "cell_type": "markdown",
   "metadata": {
    "deletable": true,
    "editable": true
   },
   "source": []
  },
  {
   "cell_type": "markdown",
   "metadata": {
    "deletable": true,
    "editable": true
   },
   "source": []
  }
 ],
 "metadata": {
  "kernelspec": {
   "display_name": "Python 3",
   "language": "python",
   "name": "python3"
  },
  "language_info": {
   "codemirror_mode": {
    "name": "ipython",
    "version": 3
   },
   "file_extension": ".py",
   "mimetype": "text/x-python",
   "name": "python",
   "nbconvert_exporter": "python",
   "pygments_lexer": "ipython3",
   "version": "3.5.3"
  }
 },
 "nbformat": 4,
 "nbformat_minor": 2
}
